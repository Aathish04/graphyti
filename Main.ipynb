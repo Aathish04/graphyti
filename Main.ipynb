{
 "cells": [
  {
   "cell_type": "code",
   "execution_count": null,
   "metadata": {},
   "outputs": [],
   "source": [
    "import requests\n",
    "import json\n",
    "from bs4 import BeautifulSoup\n",
    "import re\n",
    "import os\n",
    "import subprocess\n",
    "from pathlib import Path\n",
    "\n",
    "SESSIONID = \"CCFD30EDBE5EAB681A25EE87E6BD668E\""
   ]
  },
  {
   "cell_type": "code",
   "execution_count": null,
   "metadata": {},
   "outputs": [],
   "source": [
    "courseid_001 = \"63d3a60fe4b0f86ecf1be779\"\n",
    "courseid_002 = \"63d3e0d3e4b09032e4cb167c\"\n",
    "COOKIES = {\"SESSIONID\":SESSIONID}\n",
    "\n",
    "SELECTED_COURSE_ID = courseid_002"
   ]
  },
  {
   "cell_type": "code",
   "execution_count": null,
   "metadata": {},
   "outputs": [],
   "source": [
    "r = requests.get(f\"https://https://aathishsivasubrahmanian.graphy.com/s/mycourses?type=active&lsb\",cookies=COOKIES)\n",
    "apkid = re.search(r'apkId = \\\"(.*)\\\", theme9',r.text).group(1)\n",
    "apkid"
   ]
  },
  {
   "cell_type": "code",
   "execution_count": null,
   "metadata": {},
   "outputs": [],
   "source": [
    "\n",
    "r = requests.get(f\"https://https://aathishsivasubrahmanian.graphy.com/s/courses/{SELECTED_COURSE_ID}/take\",cookies=COOKIES)\n",
    "soup = BeautifulSoup(r.content)\n",
    "mydivs = soup.find(\"div\",{\"data-title\":\"Sample Course 1\"}).find_all(\"div\", {\"class\": \"courseSubItem\"})\n",
    "viddict = {}\n",
    "for div in mydivs:\n",
    "    viddict[div.attrs[\"data-title\"]] = div.attrs['data-id']\n",
    "\n",
    "print(json.dumps(viddict,indent=4))"
   ]
  },
  {
   "cell_type": "code",
   "execution_count": null,
   "metadata": {},
   "outputs": [],
   "source": [
    "# completedvids = (\"01\",\"02\",\"03\",\"04\",\"05\",\"06\",\"07\",\"08\",\"09\",\"10\",\"11\", \"12\",'13',\"14\",\"15\",\"16\",\"17\",\"18\",\"19\",\"31\",\"32\",\"33\",\"34\",\"35\",\"36\",\"46\", '47', '48', '49', '50', '51', '52', '53', '54', '55', '56', '57')\n",
    "incompletedvids =(\"12\",'13',\"14\",\"15\",\"16\",\"17\",\"18\",\"19\",\"20\",\"21\",\"22\",\"23\",\"24\",\"25\",\"26\",\"27\",\"28\",\"29\")\n",
    "\n",
    "for vid in viddict:\n",
    "    # if vid.startswith(completedvids) or isinstance(viddict[vid],dict):\n",
    "    if not vid.startswith(incompletedvids):\n",
    "        continue\n",
    "    r = requests.get(f\"https://https://aathishsivasubrahmanian.graphy.com/s/courses/{SELECTED_COURSE_ID}/videos/{viddict[vid]}/get?_=1699857984568\",cookies=COOKIES)\n",
    "    print(r.text)\n",
    "    viddict[vid] = r.json()\n",
    "print(json.dumps(viddict,indent=4))"
   ]
  },
  {
   "cell_type": "code",
   "execution_count": null,
   "metadata": {},
   "outputs": [],
   "source": [
    "print(json.dumps(viddict,indent=4))"
   ]
  },
  {
   "cell_type": "code",
   "execution_count": null,
   "metadata": {},
   "outputs": [],
   "source": [
    "for vid in viddict:\n",
    "    if not isinstance(viddict[vid],dict):\n",
    "        continue \n",
    "    try:\n",
    "        viddirpath = Path(vid)\n",
    "        os.mkdir(vid)\n",
    "    except Exception as e:\n",
    "        print(e)\n",
    "        pass\n",
    "    print(f\"Starting Download : {vid}\")\n",
    "    url = viddict[vid][\"spayee:resource\"][\"spayee:streamUrl\"]\n",
    "    r = requests.get(url,cookies=COOKIES)\n",
    "    # with open(viddirpath/\"index.m3u8\",\"wb\") as f:\n",
    "    #     f.write(r.content)\n",
    "    NEEDS_SEPARATE_AUDIO = (\"hls_audio_.m3u8\" in r.text)\n",
    "    \n",
    "    r = requests.get(url[:-10]+\"hls_500k_.m3u8\",cookies=COOKIES)\n",
    "    with open(viddirpath/\"hls_500k_.m3u8\",\"w\") as f:\n",
    "        f.write(r.content.decode(\"utf-8\").replace(\"k/timestamp\",\"key_video.bin\"))\n",
    "    \n",
    "    with open(viddirpath/\"hls_500k_.m3u8\",\"r\") as f:\n",
    "        with open(viddirpath/\"key_video.bin\",\"wb\") as f2:\n",
    "            r = requests.get(url[:-10]+\"k/timestamp\",cookies=COOKIES)\n",
    "            timestampreturn = list(bytearray(r.content))\n",
    "            bytestowrite = eval((subprocess.check_output([\"node\",\"decrypt_key.js\", apkid, str(timestampreturn)])).decode(\"utf-8\").strip())\n",
    "            f2.write(bytes(bytestowrite))\n",
    "    #     for line in f.readlines():\n",
    "    #         if line.startswith(\"hls_500k\"):\n",
    "    #             r = requests.get(url[:-10]+line.strip(),cookies=COOKIES)\n",
    "    #             with open(viddirpath/line.strip(),\"wb\") as f2:\n",
    "    #                 f2.write(r.content)\n",
    "\n",
    "    if NEEDS_SEPARATE_AUDIO:\n",
    "        r = requests.get(url[:-10]+\"hls_audio_.m3u8\",cookies=COOKIES)\n",
    "        with open(viddirpath/\"hls_audio_.m3u8\",\"w\") as f:\n",
    "            f.write(r.content.decode(\"utf-8\").replace(\"k/timestamp\",\"key_audio.bin\"))\n",
    "        with open(viddirpath/\"hls_audio_.m3u8\",\"r\") as f:\n",
    "            with open(viddirpath/\"key_audio.bin\",\"wb\") as f2:\n",
    "                r = requests.get(url[:-10]+\"k/timestamp\",cookies=COOKIES)\n",
    "                timestampreturn = list(bytearray(r.content))\n",
    "                bytestowrite = eval((subprocess.check_output([\"node\",\"decrypt_key.js\", apkid, str(timestampreturn)])).decode(\"utf-8\").strip())\n",
    "                f2.write(bytes(bytestowrite))\n",
    "        #     for line in f.readlines():\n",
    "        #         if line.startswith(\"hls_audio\"):\n",
    "        #             r = requests.get(url[:-10]+line.strip(),cookies=COOKIES)\n",
    "        #             with open(viddirpath/line.strip(),\"wb\") as f2:\n",
    "        #                 f2.write(r.content)\n",
    "    print(f\"Finished : {vid}\")\n",
    "    # break\n"
   ]
  },
  {
   "cell_type": "code",
   "execution_count": null,
   "metadata": {},
   "outputs": [],
   "source": [
    "/Users/aathishs/Projects/CTF/graphytty/ffmpeg-darwin-arm64 -allowed_extensions ALL -i '/Users/aathishs/Projects/CTF/graphytty/sample_video_1\" -o \"sample_video_1.mp4\""
   ]
  },
  {
   "cell_type": "code",
   "execution_count": null,
   "metadata": {},
   "outputs": [],
   "source": [
    "import os\n",
    "from pathlib import Path\n",
    "curdir = Path(os.path.abspath(\"\"))\n",
    "folders = sorted([i for i in os.listdir() if i.startswith( (\"1\",\"2\"))])\n",
    "print(folders)\n",
    "# input()\n",
    "for folder in folders:\n",
    "    os.system(f'/Users/aathishs/Projects/CTF/graphytty/ffmpeg-darwin-arm64 -allowed_extensions ALL -i \"{folder}/index.m3u8\" -c copy -vcodec copy \"/Users/aathishs/Projects/CTF/graphytty/Videos/{folder}.mp4\"')\n",
    "\n"
   ]
  },
  {
   "cell_type": "code",
   "execution_count": null,
   "metadata": {},
   "outputs": [],
   "source": []
  }
 ],
 "metadata": {
  "kernelspec": {
   "display_name": "Python 3",
   "language": "python",
   "name": "python3"
  },
  "language_info": {
   "codemirror_mode": {
    "name": "ipython",
    "version": 3
   },
   "file_extension": ".py",
   "mimetype": "text/x-python",
   "name": "python",
   "nbconvert_exporter": "python",
   "pygments_lexer": "ipython3",
   "version": "3.11.6"
  }
 },
 "nbformat": 4,
 "nbformat_minor": 2
}
