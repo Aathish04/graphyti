{
 "cells": [
  {
   "cell_type": "code",
   "execution_count": 1,
   "metadata": {},
   "outputs": [],
   "source": [
    "import requests\n",
    "import json\n",
    "from bs4 import BeautifulSoup\n",
    "import re\n",
    "import subprocess\n",
    "from pathlib import Path"
   ]
  },
  {
   "cell_type": "code",
   "execution_count": null,
   "metadata": {},
   "outputs": [],
   "source": [
    "MEDIA_PATH = \"./media\"\n",
    "URL = \"https://aathishsivasubrahmanian.graphy.com\"\n",
    "SESSIONID = \"C20D80B62A11008579D7DCE7EDAEA131\"\n",
    "COOKIES = {\"SESSIONID\":SESSIONID}\n",
    "SELECTED_COURSE_ID = \"6731ae22e5fa980e331decaf\"\n",
    "COURSE_SECTION_NAME = \"Introduction to Course\"\n",
    "headers = {\n",
    "    \"accept\": \"application/json, text/javascript, */*; q=0.01\",\n",
    "    \"accept-language\": \"en-GB,en-US;q=0.9,en;q=0.8\",\n",
    "    \"content-type\": \"application/json; charset=utf-8\",\n",
    "    \"priority\": \"u=1, i\",\n",
    "    \"referer\": f\"{URL}/s/mycourses?type=active&lsb\",\n",
    "    \"sec-ch-ua\": '\"Chromium\";v=\"130\", \"Google Chrome\";v=\"130\", \"Not?A_Brand\";v=\"99\"',\n",
    "    \"sec-ch-ua-mobile\": \"?0\",\n",
    "    \"sec-ch-ua-platform\": '\"macOS\"',\n",
    "    \"sec-fetch-dest\": \"empty\",\n",
    "    \"sec-fetch-mode\": \"cors\",\n",
    "    \"sec-fetch-site\": \"same-origin\",\n",
    "    \"user-agent\": \"Mozilla/5.0 (Macintosh; Intel Mac OS X 10_15_7) AppleWebKit/537.36 (KHTML, like Gecko) Chrome/130.0.0.0 Safari/537.36\",\n",
    "    \"x-requested-with\": \"XMLHttpRequest\"\n",
    "}\n",
    "media_path = Path(MEDIA_PATH)\n",
    "unprocessed_media_path = media_path/\"unprocessed\"\n",
    "processed_media_path = media_path/\"processed\"\n"
   ]
  },
  {
   "cell_type": "code",
   "execution_count": 3,
   "metadata": {},
   "outputs": [],
   "source": [
    "r = requests.get(f\"{URL}/s/mycourses?type=active&lsb\",cookies=COOKIES,headers=headers)\n",
    "apkid = re.search(r'apkId = \\\"(.*)\\\", theme9',r.text).group(1)\n"
   ]
  },
  {
   "cell_type": "code",
   "execution_count": 4,
   "metadata": {},
   "outputs": [
    {
     "name": "stdout",
     "output_type": "stream",
     "text": [
      "{\n",
      "    \"SAMPLE_VIDEO\": \"6731c9518cbb8b3ca42f41f2\"\n",
      "}\n"
     ]
    }
   ],
   "source": [
    "\n",
    "r = requests.get(f\"{URL}/s/courses/{SELECTED_COURSE_ID}/take\",cookies=COOKIES,headers=headers)\n",
    "hlsurl = re.search(r'https:\\/\\/.*hls.*.min.js',r.text).group(0)\n",
    "soup = BeautifulSoup(r.content)\n",
    "mydivs = soup.find(\"div\",{\"data-title\":COURSE_SECTION_NAME}).find_all(\"div\", {\"class\": \"courseSubItem\"})\n",
    "viddict = {}\n",
    "for div in mydivs:\n",
    "    viddict[div.attrs[\"data-title\"]] = div.attrs['data-id']\n",
    "\n",
    "print(json.dumps(viddict,indent=4))"
   ]
  },
  {
   "cell_type": "code",
   "execution_count": 5,
   "metadata": {},
   "outputs": [
    {
     "name": "stdout",
     "output_type": "stream",
     "text": [
      "{\"_id\":\"6731c9518cbb8b3ca42f41f2\",\"spayee:resource\":{\"spayee:title\":\"SAMPLE_VIDEO\",\"spayee:courseAssetType\":\"video\",\"spayee:type\":\"upload\",\"spayee:underProcess\":false,\"spayee:completed\":true,\"spayee:status\":\"Completed\",\"spayee:gencodePath\":\"assets/videos/6731ad6d7c5f1d5698393004/2024/11/11/6731c9518cbb8b3ca42f41f2\",\"spayee:previewUrl\":\"assets/videos/6731ad6d7c5f1d5698393004/2024/11/11/6731c9518cbb8b3ca42f41f2/6731c9518cbb8b3ca42f41f2\",\"spayee:uploadVideoMP4Link\":\"https://s3-ap-south-1.amazonaws.com/spee-qenc-videos/assets/videos/6731ad6d7c5f1d5698393004/2024/11/11/6731c9518cbb8b3ca42f41f2/6731c9518cbb8b3ca42f41f2\",\"spayee:progress\":100,\"spayee:coverVersion\":1,\"spayee:totalTime\":0.22466667,\"spayee:streamUrl\":\"https://qcdn.spayee.in/spees/w/o/6731ad6d7c5f1d5698393004/v/6731c9518cbb8b3ca42f41f2/u/6731af219bee1a760d1a6148/t/32715d7f1dee8d878f62c2e6f4a0c81a/p/assets/videos/6731ad6d7c5f1d5698393004/2024/11/11/6731c9518cbb8b3ca42f41f2/index.m3u8\"},\"watchedVideoDuration\":3,\"drmPlayerSupport\":false,\"response\":true}\n",
      "{\n",
      "    \"SAMPLE_VIDEO\": {\n",
      "        \"_id\": \"6731c9518cbb8b3ca42f41f2\",\n",
      "        \"spayee:resource\": {\n",
      "            \"spayee:title\": \"SAMPLE_VIDEO\",\n",
      "            \"spayee:courseAssetType\": \"video\",\n",
      "            \"spayee:type\": \"upload\",\n",
      "            \"spayee:underProcess\": false,\n",
      "            \"spayee:completed\": true,\n",
      "            \"spayee:status\": \"Completed\",\n",
      "            \"spayee:gencodePath\": \"assets/videos/6731ad6d7c5f1d5698393004/2024/11/11/6731c9518cbb8b3ca42f41f2\",\n",
      "            \"spayee:previewUrl\": \"assets/videos/6731ad6d7c5f1d5698393004/2024/11/11/6731c9518cbb8b3ca42f41f2/6731c9518cbb8b3ca42f41f2\",\n",
      "            \"spayee:uploadVideoMP4Link\": \"https://s3-ap-south-1.amazonaws.com/spee-qenc-videos/assets/videos/6731ad6d7c5f1d5698393004/2024/11/11/6731c9518cbb8b3ca42f41f2/6731c9518cbb8b3ca42f41f2\",\n",
      "            \"spayee:progress\": 100,\n",
      "            \"spayee:coverVersion\": 1,\n",
      "            \"spayee:totalTime\": 0.22466667,\n",
      "            \"spayee:streamUrl\": \"https://qcdn.spayee.in/spees/w/o/6731ad6d7c5f1d5698393004/v/6731c9518cbb8b3ca42f41f2/u/6731af219bee1a760d1a6148/t/32715d7f1dee8d878f62c2e6f4a0c81a/p/assets/videos/6731ad6d7c5f1d5698393004/2024/11/11/6731c9518cbb8b3ca42f41f2/index.m3u8\"\n",
      "        },\n",
      "        \"watchedVideoDuration\": 3,\n",
      "        \"drmPlayerSupport\": false,\n",
      "        \"response\": true\n",
      "    }\n",
      "}\n"
     ]
    }
   ],
   "source": [
    "for vid in viddict:\n",
    "    r = requests.get(f\"{URL}/s/courses/{SELECTED_COURSE_ID}/videos/{viddict[vid]}/get?_=1699857984568\",cookies=COOKIES,headers=headers)\n",
    "    print(r.text)\n",
    "    viddict[vid] = r.json()\n",
    "print(json.dumps(viddict,indent=4))"
   ]
  },
  {
   "cell_type": "code",
   "execution_count": 6,
   "metadata": {},
   "outputs": [
    {
     "name": "stdout",
     "output_type": "stream",
     "text": [
      "Starting Download : SAMPLE_VIDEO\n",
      "https://qcdn.spayee.in/spees/w/o/6731ad6d7c5f1d5698393004/v/6731c9518cbb8b3ca42f41f2/u/6731af219bee1a760d1a6148/t/32715d7f1dee8d878f62c2e6f4a0c81a/p/assets/videos/6731ad6d7c5f1d5698393004/2024/11/11/6731c9518cbb8b3ca42f41f2/index.m3u8\n",
      "[126, 50, 74, 54, 59, 89, 76, 102, 241, 241, 50, 193, 209, 148, 174, 187, 112, 216, 95, 234, 128, 178, 54, 14, 73, 93, 121, 41, 55, 62, 40, 85, 160, 20, 186, 128, 182, 43, 9, 193, 63, 236, 47, 137, 86, 138, 4, 205]\n",
      "bytes: [245, 221, 211, 1, 35, 171, 35, 255, 216, 254, 189, 225, 207, 191, 166, 52]\n",
      "Finished : SAMPLE_VIDEO\n"
     ]
    }
   ],
   "source": [
    "for vid in viddict:\n",
    "    if not isinstance(viddict[vid],dict):\n",
    "        continue \n",
    "\n",
    "    viddirpath = unprocessed_media_path/vid\n",
    "    viddirpath.mkdir(exist_ok=True,parents=True)\n",
    "\n",
    "    print(f\"Starting Download : {vid}\")\n",
    "    url = viddict[vid][\"spayee:resource\"][\"spayee:streamUrl\"]\n",
    "    r = requests.get(url,cookies=COOKIES,headers=headers)\n",
    "    with open(viddirpath/\"index.m3u8\",\"wb\") as f:\n",
    "        f.write(r.content)\n",
    "    NEEDS_SEPARATE_AUDIO = (\"hls_audio_.m3u8\" in r.text)\n",
    "    \n",
    "    r = requests.get(url[:-10]+\"hls_500k_.m3u8\",cookies=COOKIES,headers=headers)\n",
    "    with open(viddirpath/\"hls_500k_.m3u8\",\"w\") as f:\n",
    "        f.write(r.content.decode(\"utf-8\").replace(\"k/timestamp\",\"key_video.bin\"))\n",
    "    \n",
    "    with open(viddirpath/\"hls_500k_.m3u8\",\"r\") as f:\n",
    "        with open(viddirpath/\"key_video.bin\",\"wb\") as f2:\n",
    "            print(url)\n",
    "            r = requests.get(url[:-10]+\"k/timestamp\",cookies=COOKIES,headers=headers)\n",
    "            timestampreturn = list(bytearray(r.content))\n",
    "            print(timestampreturn)\n",
    "            bytestowrite = eval((subprocess.check_output([\"node\",\"decrypt_key.js\", apkid, str(timestampreturn),r.url])).decode(\"utf-8\").strip())\n",
    "            print(\"bytes:\",bytestowrite)\n",
    "            f2.write(bytes(bytestowrite))\n",
    "        for line in f.readlines():\n",
    "            if line.startswith(\"hls_500k\"):\n",
    "                r = requests.get(url[:-10]+line.strip(),cookies=COOKIES,headers=headers)\n",
    "                with open(viddirpath/line.strip(),\"wb\") as f2:\n",
    "                    f2.write(r.content)\n",
    "\n",
    "    if NEEDS_SEPARATE_AUDIO:\n",
    "        r = requests.get(url[:-10]+\"hls_audio_.m3u8\",cookies=COOKIES,headers=headers)\n",
    "        with open(viddirpath/\"hls_audio_.m3u8\",\"w\") as f:\n",
    "            f.write(r.content.decode(\"utf-8\").replace(\"k/timestamp\",\"key_audio.bin\"))\n",
    "        with open(viddirpath/\"hls_audio_.m3u8\",\"r\") as f:\n",
    "            with open(viddirpath/\"key_audio.bin\",\"wb\") as f2:\n",
    "                r = requests.get(url[:-10]+\"k/timestamp\",cookies=COOKIES,headers=headers)\n",
    "                timestampreturn = list(bytearray(r.content))\n",
    "                bytestowrite = eval((subprocess.check_output([\"node\",\"decrypt_key.js\", apkid, str(timestampreturn),r.url])).decode(\"utf-8\").strip())\n",
    "                f2.write(bytes(bytestowrite))\n",
    "            for line in f.readlines():\n",
    "                if line.startswith(\"hls_audio\"):\n",
    "                    r = requests.get(url[:-10]+line.strip(),cookies=COOKIES)\n",
    "                    with open(viddirpath/line.strip(),\"wb\") as f2:\n",
    "                        f2.write(r.content)\n",
    "    print(f\"Finished : {vid}\")\n",
    "    # break\n"
   ]
  },
  {
   "cell_type": "code",
   "execution_count": 7,
   "metadata": {},
   "outputs": [
    {
     "name": "stderr",
     "output_type": "stream",
     "text": [
      "ffmpeg version 6.0 Copyright (c) 2000-2023 the FFmpeg developers\n",
      "  built with Apple clang version 13.1.6 (clang-1316.0.21.2.5)\n",
      "  configuration: --prefix=/Volumes/tempdisk/sw --extra-cflags=-fno-stack-check --arch=arm64 --cc=/usr/bin/clang --enable-gpl --enable-libvmaf --enable-libbluray --enable-libopenjpeg --enable-libopus --enable-libmp3lame --enable-libx264 --enable-libx265 --enable-libvpx --enable-libwebp --enable-libass --enable-libfreetype --enable-fontconfig --enable-libtheora --enable-libvorbis --enable-libsnappy --enable-libaom --enable-libvidstab --enable-libzimg --enable-libsvtav1 --enable-libkvazaar --enable-version3 --pkg-config-flags=--static --enable-ffplay --enable-postproc --enable-nonfree --enable-neon --enable-runtime-cpudetect --disable-indev=qtkit --disable-indev=x11grab_xcb\n",
      "  libavutil      58.  2.100 / 58.  2.100\n",
      "  libavcodec     60.  3.100 / 60.  3.100\n",
      "  libavformat    60.  3.100 / 60.  3.100\n",
      "  libavdevice    60.  1.100 / 60.  1.100\n",
      "  libavfilter     9.  3.100 /  9.  3.100\n",
      "  libswscale      7.  1.100 /  7.  1.100\n",
      "  libswresample   4. 10.100 /  4. 10.100\n",
      "  libpostproc    57.  1.100 / 57.  1.100\n",
      "[hls @ 0x125806510] Skip ('#EXT-X-VERSION:3')\n",
      "[hls @ 0x125806510] Opening 'media/unprocessed/SAMPLE_VIDEO/hls_audio_.m3u8' for reading\n",
      "[hls @ 0x125806510] Skip ('#EXT-X-VERSION:3')\n",
      "[hls @ 0x125806510] Opening 'media/unprocessed/SAMPLE_VIDEO/hls_500k_.m3u8' for reading\n",
      "[hls @ 0x125806510] Skip ('#EXT-X-VERSION:3')\n",
      "[hls @ 0x125806510] Opening 'media/unprocessed/SAMPLE_VIDEO/hls_1M_.m3u8' for reading\n",
      "[hls @ 0x125806510] parse_playlist error No such file or directory [media/unprocessed/SAMPLE_VIDEO/hls_1M_.m3u8]\n",
      "[hls @ 0x125806510] Empty segment [media/unprocessed/SAMPLE_VIDEO/hls_1M_.m3u8]\n",
      "[hls @ 0x125806510] Opening 'media/unprocessed/SAMPLE_VIDEO/key_audio.bin' for reading\n",
      "[hls @ 0x125806510] Opening 'crypto:media/unprocessed/SAMPLE_VIDEO/hls_audio_000.ts' for reading\n",
      "[hls @ 0x125806510] Opening 'media/unprocessed/SAMPLE_VIDEO/key_video.bin' for reading\n",
      "[hls @ 0x125806510] Opening 'crypto:media/unprocessed/SAMPLE_VIDEO/hls_500k_000.ts' for reading\n",
      "Input #0, hls, from 'media/unprocessed/SAMPLE_VIDEO/index.m3u8':\n",
      "  Duration: 00:00:13.48, start: 1.400000, bitrate: 0 kb/s\n",
      "  Program 0 \n",
      "    Metadata:\n",
      "      variant_bitrate : 650000\n",
      "  Stream #0:0(eng): Audio: aac (LC) ([15][0][0][0] / 0x000F), 48000 Hz, 5.1, fltp, 172 kb/s (default)\n",
      "    Metadata:\n",
      "      comment         : eng\n",
      "  Stream #0:1: Video: h264 (High) ([27][0][0][0] / 0x001B), yuv420p, 852x480 [SAR 640:639 DAR 16:9], 25 fps, 25 tbr, 90k tbn\n",
      "    Metadata:\n",
      "      variant_bitrate : 650000\n",
      "  Program 1 \n",
      "    Metadata:\n",
      "      variant_bitrate : 900000\n",
      "  Stream #0:0(eng): Audio: aac (LC) ([15][0][0][0] / 0x000F), 48000 Hz, 5.1, fltp, 172 kb/s (default)\n",
      "    Metadata:\n",
      "      comment         : eng\n",
      "Multiple -c, -codec, -acodec, -vcodec, -scodec or -dcodec options specified for stream 0, only the last option '-c:v copy' will be used.\n",
      "Output #0, mp4, to 'media/processed/SAMPLE_VIDEO.mp4':\n",
      "  Metadata:\n",
      "    encoder         : Lavf60.3.100\n",
      "  Stream #0:0: Video: h264 (High) (avc1 / 0x31637661), yuv420p, 852x480 [SAR 640:639 DAR 16:9], q=2-31, 25 fps, 25 tbr, 90k tbn\n",
      "    Metadata:\n",
      "      variant_bitrate : 650000\n",
      "  Stream #0:1(eng): Audio: aac (LC) (mp4a / 0x6134706D), 48000 Hz, 5.1, fltp, 172 kb/s (default)\n",
      "    Metadata:\n",
      "      comment         : eng\n",
      "Stream mapping:\n",
      "  Stream #0:1 -> #0:0 (copy)\n",
      "  Stream #0:0 -> #0:1 (copy)\n",
      "Press [q] to stop, [?] for help\n",
      "[hls @ 0x125806510] Opening 'crypto:media/unprocessed/SAMPLE_VIDEO/hls_audio_001.ts' for reading\n",
      "[hls @ 0x125806510] Opening 'crypto:media/unprocessed/SAMPLE_VIDEO/hls_500k_001.ts' for reading\n",
      "[hls @ 0x125806510] Opening 'crypto:media/unprocessed/SAMPLE_VIDEO/hls_audio_002.ts' for reading\n",
      "[hls @ 0x125806510] Opening 'crypto:media/unprocessed/SAMPLE_VIDEO/hls_500k_002.ts' for reading\n",
      "[hls @ 0x125806510] Opening 'crypto:media/unprocessed/SAMPLE_VIDEO/hls_500k_003.ts' for reading\n",
      "[hls @ 0x125806510] Opening 'crypto:media/unprocessed/SAMPLE_VIDEO/hls_audio_003.ts' for reading\n",
      "[hls @ 0x125806510] Opening 'crypto:media/unprocessed/SAMPLE_VIDEO/hls_audio_004.ts' for reading\n",
      "[hls @ 0x125806510] Opening 'crypto:media/unprocessed/SAMPLE_VIDEO/hls_500k_004.ts' for reading\n",
      "[hls @ 0x125806510] Opening 'crypto:media/unprocessed/SAMPLE_VIDEO/hls_audio_005.ts' for reading\n",
      "[hls @ 0x125806510] Opening 'crypto:media/unprocessed/SAMPLE_VIDEO/hls_500k_005.ts' for reading\n",
      "[hls @ 0x125806510] Opening 'crypto:media/unprocessed/SAMPLE_VIDEO/hls_500k_006.ts' for reading\n",
      "[hls @ 0x125806510] Opening 'crypto:media/unprocessed/SAMPLE_VIDEO/hls_audio_006.ts' for reading\n",
      "frame=  337 fps=0.0 q=-1.0 Lsize=    1237kB time=00:00:13.50 bitrate= 750.3kbits/s speed= 629x    \n",
      "video:1008kB audio:222kB subtitle:0kB other streams:0kB global headers:0kB muxing overhead: 0.562461%\n"
     ]
    }
   ],
   "source": [
    "# List all folders in the directory\n",
    "unprocessed_videos = [item for item in unprocessed_media_path.iterdir() if item.is_dir()]\n",
    "processed_media_path.mkdir(parents=True,exist_ok=True)\n",
    "for unprocessed_video in unprocessed_videos:\n",
    "    subprocess.run([\n",
    "        './ffmpeg-darwin-arm64', \n",
    "        '-y', \n",
    "        '-allowed_extensions', 'ALL', \n",
    "        '-i', f\"{unprocessed_video}/index.m3u8\", \n",
    "        '-c', 'copy', \n",
    "        '-vcodec', 'copy', \n",
    "        f\"{processed_media_path/unprocessed_video.name}.mp4\"\n",
    "    ])\n",
    "\n"
   ]
  }
 ],
 "metadata": {
  "kernelspec": {
   "display_name": ".venv",
   "language": "python",
   "name": "python3"
  },
  "language_info": {
   "codemirror_mode": {
    "name": "ipython",
    "version": 3
   },
   "file_extension": ".py",
   "mimetype": "text/x-python",
   "name": "python",
   "nbconvert_exporter": "python",
   "pygments_lexer": "ipython3",
   "version": "3.13.0"
  }
 },
 "nbformat": 4,
 "nbformat_minor": 2
}
